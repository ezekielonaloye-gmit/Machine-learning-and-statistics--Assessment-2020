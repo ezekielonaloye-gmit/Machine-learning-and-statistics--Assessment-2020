{
 "cells": [
  {
   "cell_type": "markdown",
   "metadata": {},
   "source": [
    "<p align=\"center\">\n",
    "    <h1 align=\"center\">Machine Learning and Statistics Tasks 2020</h1>\n",
    "    <h1 align=\"center\"> Task 2: Chi-Squared (χ2) Test of Independence </h1>\n",
    "    <h2 align=\"center\"> Author: Ezekiel Onaloye</h2>\n",
    "    <h2 align=\"center\"> Created: December 2020 </h2> \n",
    "</p>"
   ]
  },
  {
   "cell_type": "markdown",
   "metadata": {},
   "source": [
    "![Chi-square test fromula](img/Chi-square.jpg)"
   ]
  },
  {
   "cell_type": "markdown",
   "metadata": {},
   "source": [
    "### Task 2\n",
    "To test if two categorical variables have an association or significance dependency on one another. "
   ]
  },
  {
   "cell_type": "markdown",
   "metadata": {},
   "source": [
    "### Introduction\n",
    "\n",
    "The Chi-square test is a non-parametric method used to compare or determine whether a relationship exists between categorical variables in a contingency table [1].The chi-square test of independence tests for dependence between categorical variables. \n",
    "\n",
    "\n",
    "Independence is a crucial concept in probability that describes a situation where knowing the value of one variable tells you something about another's value.  For instance, our birth month doesn't indicate which web browser we use, indicating our birth month and browser preference to be independent. On the other hand, the month of birth might correlate to the month and age pupils gain admission into primary school, so the month of birth and school admission might not be independent[3]. \n",
    "\n",
    "The chi-squared test of independence tests whether two categorical variables are independent. The independence test determines whether variables like education, political views, and other preferences vary based on demographic factors like gender, race, and religion [3]. \n",
    "\n",
    "If the significance of the test is below 0.05, the variables have a significant dependence. For this task, a scipy.stats  package was used to conduct a test of independence. I used stats.chi2_contingency() function to run a test of independence automatically given a frequency table of observed counts. "
   ]
  },
  {
   "cell_type": "markdown",
   "metadata": {},
   "source": [
    "### Hypothesis\n",
    "\n",
    "<b>H<sub>0</sub></b> - <em>Null hypotheses</em>: The null hypothesis  is a default hypothesis which states that there is no effect or relationship between the variables.The two categorical variables are independent (no association between the two variables, they are independent).\n",
    "\n",
    "<b>H<sub>a</sub></b> - Alternative hypotheses: The alternative hypothesis states the effect or relationship exists.The two categorical variables are dependent (there is an association between the two variables and are dependent)."
   ]
  },
  {
   "cell_type": "markdown",
   "metadata": {},
   "source": [
    "### Assumptions\n",
    "The variables are categorical (nominal), randomly sampled, and are independent.\n",
    "\n",
    "The levels of variables are mutually exclusive.\n",
    "\n",
    "The expected frequency count for at least 80% of the cell in a contingency table is at least 5.\n",
    "\n",
    "No expected cell count is = 0.\n",
    "\n",
    "Observation data should be frequency counts and not percentages or transformed data."
   ]
  },
  {
   "cell_type": "markdown",
   "metadata": {},
   "source": [
    "### Example of chi-squared test for categorical data for task 2:\n",
    "\n",
    "Suppose there is a city of 1,000,000 residents with four neighborhoods: A, B, C, and D. A random sample of 650 residents of the city is taken and their occupation is recorded as \"white collar\", \"blue collar\", or \"no collar\". The null hypothesis is that each person's neighborhood of residence is independent of the person's occupational classification [2]. \n",
    "\n",
    "The data copied and saved as csv and read into jupyter notebook using panda below. "
   ]
  },
  {
   "cell_type": "code",
   "execution_count": 1,
   "metadata": {},
   "outputs": [],
   "source": [
    "# Efficient numerical arrays.\n",
    "import numpy as np\n",
    "# Data frames.\n",
    "import pandas as pd\n",
    "import matplotlib.pyplot as plt\n",
    "# Mains statistics package.\n",
    "import scipy.stats as ss\n",
    "from scipy.stats import chi2_contingency\n",
    "\n",
    "# Better sized plots.\n",
    "plt.rcParams['figure.figsize'] = (12, 8)\n",
    "\n",
    "# Nicer colours and styles for plots.\n",
    "plt.style.use(\"fivethirtyeight\")"
   ]
  },
  {
   "cell_type": "code",
   "execution_count": 2,
   "metadata": {},
   "outputs": [
    {
     "data": {
      "text/html": [
       "<div>\n",
       "<style scoped>\n",
       "    .dataframe tbody tr th:only-of-type {\n",
       "        vertical-align: middle;\n",
       "    }\n",
       "\n",
       "    .dataframe tbody tr th {\n",
       "        vertical-align: top;\n",
       "    }\n",
       "\n",
       "    .dataframe thead th {\n",
       "        text-align: right;\n",
       "    }\n",
       "</style>\n",
       "<table border=\"1\" class=\"dataframe\">\n",
       "  <thead>\n",
       "    <tr style=\"text-align: right;\">\n",
       "      <th></th>\n",
       "      <th>A</th>\n",
       "      <th>B</th>\n",
       "      <th>C</th>\n",
       "      <th>D</th>\n",
       "      <th>total</th>\n",
       "    </tr>\n",
       "  </thead>\n",
       "  <tbody>\n",
       "    <tr>\n",
       "      <th>White collar</th>\n",
       "      <td>90</td>\n",
       "      <td>60</td>\n",
       "      <td>104</td>\n",
       "      <td>95</td>\n",
       "      <td>349</td>\n",
       "    </tr>\n",
       "    <tr>\n",
       "      <th>Blue collar</th>\n",
       "      <td>30</td>\n",
       "      <td>50</td>\n",
       "      <td>51</td>\n",
       "      <td>20</td>\n",
       "      <td>151</td>\n",
       "    </tr>\n",
       "    <tr>\n",
       "      <th>No collar</th>\n",
       "      <td>30</td>\n",
       "      <td>40</td>\n",
       "      <td>45</td>\n",
       "      <td>35</td>\n",
       "      <td>150</td>\n",
       "    </tr>\n",
       "    <tr>\n",
       "      <th>Total</th>\n",
       "      <td>150</td>\n",
       "      <td>150</td>\n",
       "      <td>200</td>\n",
       "      <td>150</td>\n",
       "      <td>650</td>\n",
       "    </tr>\n",
       "  </tbody>\n",
       "</table>\n",
       "</div>"
      ],
      "text/plain": [
       "                A    B    C    D  total\n",
       "White collar   90   60  104   95    349\n",
       "Blue collar    30   50   51   20    151\n",
       "No collar      30   40   45   35    150\n",
       "Total         150  150  200  150    650"
      ]
     },
     "execution_count": 2,
     "metadata": {},
     "output_type": "execute_result"
    }
   ],
   "source": [
    "# read in csv file \n",
    "# Adapted from https://www.youtube.com/watch?v=hTsxJqw2zMM\n",
    "# http://hamelg.blogspot.com/2015/11/python-for-data-analysis-part-25-chi.html\n",
    "\n",
    "ezedf = pd.read_csv(\"task2.csv\")\n",
    "ezedf"
   ]
  },
  {
   "cell_type": "code",
   "execution_count": 3,
   "metadata": {},
   "outputs": [
    {
     "data": {
      "text/html": [
       "<div>\n",
       "<style scoped>\n",
       "    .dataframe tbody tr th:only-of-type {\n",
       "        vertical-align: middle;\n",
       "    }\n",
       "\n",
       "    .dataframe tbody tr th {\n",
       "        vertical-align: top;\n",
       "    }\n",
       "\n",
       "    .dataframe thead th {\n",
       "        text-align: right;\n",
       "    }\n",
       "</style>\n",
       "<table border=\"1\" class=\"dataframe\">\n",
       "  <thead>\n",
       "    <tr style=\"text-align: right;\">\n",
       "      <th></th>\n",
       "      <th>A</th>\n",
       "      <th>B</th>\n",
       "      <th>C</th>\n",
       "      <th>D</th>\n",
       "    </tr>\n",
       "  </thead>\n",
       "  <tbody>\n",
       "    <tr>\n",
       "      <th>White collar</th>\n",
       "      <td>90</td>\n",
       "      <td>60</td>\n",
       "      <td>104</td>\n",
       "      <td>95</td>\n",
       "    </tr>\n",
       "    <tr>\n",
       "      <th>Blue collar</th>\n",
       "      <td>30</td>\n",
       "      <td>50</td>\n",
       "      <td>51</td>\n",
       "      <td>20</td>\n",
       "    </tr>\n",
       "    <tr>\n",
       "      <th>No collar</th>\n",
       "      <td>30</td>\n",
       "      <td>40</td>\n",
       "      <td>45</td>\n",
       "      <td>35</td>\n",
       "    </tr>\n",
       "  </tbody>\n",
       "</table>\n",
       "</div>"
      ],
      "text/plain": [
       "               A   B    C   D\n",
       "White collar  90  60  104  95\n",
       "Blue collar   30  50   51  20\n",
       "No collar     30  40   45  35"
      ]
     },
     "execution_count": 3,
     "metadata": {},
     "output_type": "execute_result"
    }
   ],
   "source": [
    "observed = pd.DataFrame(ezedf.iloc[0:3,0:4])\n",
    "observed"
   ]
  },
  {
   "cell_type": "code",
   "execution_count": 4,
   "metadata": {},
   "outputs": [
    {
     "data": {
      "text/html": [
       "<div>\n",
       "<style scoped>\n",
       "    .dataframe tbody tr th:only-of-type {\n",
       "        vertical-align: middle;\n",
       "    }\n",
       "\n",
       "    .dataframe tbody tr th {\n",
       "        vertical-align: top;\n",
       "    }\n",
       "\n",
       "    .dataframe thead th {\n",
       "        text-align: right;\n",
       "    }\n",
       "</style>\n",
       "<table border=\"1\" class=\"dataframe\">\n",
       "  <thead>\n",
       "    <tr style=\"text-align: right;\">\n",
       "      <th></th>\n",
       "      <th>A</th>\n",
       "      <th>B</th>\n",
       "      <th>C</th>\n",
       "      <th>D</th>\n",
       "    </tr>\n",
       "  </thead>\n",
       "  <tbody>\n",
       "    <tr>\n",
       "      <th>White collar</th>\n",
       "      <td>80.538462</td>\n",
       "      <td>80.538462</td>\n",
       "      <td>107.384615</td>\n",
       "      <td>80.538462</td>\n",
       "    </tr>\n",
       "    <tr>\n",
       "      <th>Blue collar</th>\n",
       "      <td>34.846154</td>\n",
       "      <td>34.846154</td>\n",
       "      <td>46.461538</td>\n",
       "      <td>34.846154</td>\n",
       "    </tr>\n",
       "    <tr>\n",
       "      <th>No collar</th>\n",
       "      <td>34.615385</td>\n",
       "      <td>34.615385</td>\n",
       "      <td>46.153846</td>\n",
       "      <td>34.615385</td>\n",
       "    </tr>\n",
       "  </tbody>\n",
       "</table>\n",
       "</div>"
      ],
      "text/plain": [
       "                      A          B           C          D\n",
       "White collar  80.538462  80.538462  107.384615  80.538462\n",
       "Blue collar   34.846154  34.846154   46.461538  34.846154\n",
       "No collar     34.615385  34.615385   46.153846  34.615385"
      ]
     },
     "execution_count": 4,
     "metadata": {},
     "output_type": "execute_result"
    }
   ],
   "source": [
    "expected =  np.outer(ezedf[\"total\"][0:3], ezedf.loc[\"Total\"][0:4]) / 650\n",
    "\n",
    "expected = pd.DataFrame(expected, \n",
    "            index=[\"White collar\",\"Blue collar\",\"No collar\"], \n",
    "            columns=[\"A\",\"B\",\"C\",\"D\"])\n",
    "expected"
   ]
  },
  {
   "cell_type": "markdown",
   "metadata": {},
   "source": [
    "### Chi-Squared Test of Independence using Scipy "
   ]
  },
  {
   "cell_type": "code",
   "execution_count": 5,
   "metadata": {},
   "outputs": [
    {
     "name": "stdout",
     "output_type": "stream",
     "text": [
      "Chi-squared is: 24.5712028585826 \n",
      "\n",
      "P-value is: 0.0004098425861096696 \n",
      "\n",
      "Degrees of freedom is: 6 \n",
      "\n",
      "Expected Values are:\n",
      "                       A          B           C          D\n",
      "White collar  80.538462  80.538462  107.384615  80.538462\n",
      "Blue collar   34.846154  34.846154   46.461538  34.846154\n",
      "No collar     34.615385  34.615385   46.153846  34.615385\n"
     ]
    }
   ],
   "source": [
    "# Adapted from https://www.youtube.com/watch?v=hTsxJqw2zMM\n",
    "# http://hamelg.blogspot.com/2015/11/python-for-data-analysis-part-25-chi.html\n",
    "# Calculate chisquare value, p value, degree of freedom and expected values \n",
    "\n",
    "chiVal, pVal, df, exp = chi2_contingency(observed)\n",
    "\n",
    "expected =  np.outer(ezedf[\"total\"][0:3], ezedf.loc[\"Total\"][0:4]) / 650\n",
    "\n",
    "expected = pd.DataFrame(expected, \n",
    "            index=[\"White collar\",\"Blue collar\",\"No collar\"], \n",
    "            columns=[\"A\",\"B\",\"C\",\"D\"])\n",
    "\n",
    "print('Chi-squared is:',chiVal, '\\n\\nP-value is:',pVal, '\\n\\nDegrees of freedom is:',df, '\\n\\nExpected Values are:\\n',expected)"
   ]
  },
  {
   "cell_type": "markdown",
   "metadata": {},
   "source": [
    "### Interpretation\n",
    "\n",
    "The output above shows the chi-square statistic, the p-value and the degrees of freedom followed by the expected values.\n",
    "\n",
    "Given the low p-value or siginificance level, the result show a significant relationship between the variables. If the pVal is below 0.05 which is considered low, we would state in this case that there is a significant association between the variables.\n",
    "\n",
    "<b> The p value obtained from chi-square test for independence is significant (p < 0.05). </b>\n",
    "\n",
    "The degrees of freedom is usually an indication of the size of the table and it's simply\n",
    "the number of rows minus one and the number of columns minus one (degrees of freedom formula: (rows - 1) (cols - 1)*).\n",
    "\n",
    "The expected values are the values, the counts that we would expect if there would be no association.\n",
    "The chi-square test checks if these values(expected values) differ a lot from the values that we actually have. There should not be values in expected values that should be less than one."
   ]
  },
  {
   "cell_type": "markdown",
   "metadata": {},
   "source": [
    "### Evaluate Null / Alternative Hypothesis"
   ]
  },
  {
   "cell_type": "code",
   "execution_count": 6,
   "metadata": {},
   "outputs": [
    {
     "name": "stdout",
     "output_type": "stream",
     "text": [
      "Dependent, reject null hypothesis (H0)\n"
     ]
    }
   ],
   "source": [
    "# Evaluate whether to reject or fail to reject null hypothesis\n",
    "if pVal <= 0.05:\n",
    "    print('Dependent, reject null hypothesis (H0)')\n",
    "else:\n",
    "    print('Independent, fail to reject null hypothesis (H0)')"
   ]
  },
  {
   "cell_type": "markdown",
   "metadata": {},
   "source": [
    "### Conclusion\n",
    "\n",
    "As the p-value (0.00041) is below significance level 0.05, so we reject <b>H<sub>0</sub> - null hypothesis</b>. So there is evident association of dependency which support the alternative hypothesis that the effect or relationship exists.\n",
    "\n",
    "<b> The p value obtained from chi-square test for independence is significant (p < 0.05), and therefore, we conclude that there is a significant association between neighborhood of residence and the person's occupational classification.</b>"
   ]
  },
  {
   "cell_type": "markdown",
   "metadata": {},
   "source": [
    "### References"
   ]
  },
  {
   "cell_type": "markdown",
   "metadata": {},
   "source": [
    "[1] <em>Chi-square test in Python</em> -  https://reneshbedre.github.io/blog/chisq.html\n",
    "\n",
    "[2] <em> Chi-squared test </em>  -    https://en.wikipedia.org/wiki/Chi-squared_test\n",
    "\n",
    "[3] <em> Python for Data Analysis Part 25: Chi-Squared Tests </em> - http://hamelg.blogspot.com/2015/11/python-for-data-analysis-part-25-chi.html\n",
    "\n",
    "[4] <em> Python - Pearson chi square test of independence </em> - https://www.youtube.com/watch?v=hTsxJqw2zMM\n",
    "\n",
    "[5] <em> Chi-Square Test of Independence </em> - https://www.pythonfordatascience.org/chi-square-test-of-independence-python/ "
   ]
  }
 ],
 "metadata": {
  "kernelspec": {
   "display_name": "Python 3",
   "language": "python",
   "name": "python3"
  },
  "language_info": {
   "codemirror_mode": {
    "name": "ipython",
    "version": 3
   },
   "file_extension": ".py",
   "mimetype": "text/x-python",
   "name": "python",
   "nbconvert_exporter": "python",
   "pygments_lexer": "ipython3",
   "version": "3.8.3"
  }
 },
 "nbformat": 4,
 "nbformat_minor": 4
}
