{
 "cells": [
  {
   "cell_type": "markdown",
   "metadata": {},
   "source": [
    "<p align=\"center\">\n",
    "    <h1 align=\"center\">Machine Learning and Statistics Tasks 2020</h1>\n",
    "    <h1 align=\"center\"> Task 2: Chi-Squared (χ2) Test of Independence </h1>\n",
    "    <h2 align=\"center\"> Author: Ezekiel Onaloye</h2>\n",
    "    <h2 align=\"center\"> Created: December 2020 </h2> \n",
    "</p>"
   ]
  },
  {
   "cell_type": "markdown",
   "metadata": {},
   "source": [
    "![Chi-square test fromula](img/Chi-square.jpg)"
   ]
  },
  {
   "cell_type": "markdown",
   "metadata": {},
   "source": [
    "### Task 2\n",
    "To test if two categorical variables have an association or significance dependency on one another. \n",
    "If the significance of the test is below 0.05, the variables have a significant dependency.we can use scipy to conduct a test of independence quickly. Use stats.chi2_contingency() function to conduct a test of independence automatically given a frequency table of observed counts."
   ]
  },
  {
   "cell_type": "markdown",
   "metadata": {},
   "source": [
    "### Introduction\n",
    "\n",
    "Chi-square test is a non-parametric method used to compare the relationship between the two categorical variables in a contingency table[1].The chi-square test of independence tests for dependence between categorical variables. \n",
    "\n",
    "Independence is a crucial concept in probability that describes a situation where knowing the value of one variable tells you something about another's value.  For instance, our birth month doesn't indicate which webbrowser we use, indicating our birth month and browser preference to beindependent. On the other hand, our month of birth might correlate to themonth and age we gain admission into primary school, so the month of birth and schooladmission might not be independent[3]. \n",
    "\n",
    "The chi-squared test of independence tests whether twocategorical variables are independent. The independence test determines whethervariables like education, political views, and other preferences vary based ondemographic factors like gender, race, and religion [3]. \n",
    "\n"
   ]
  },
  {
   "cell_type": "markdown",
   "metadata": {},
   "source": [
    "### Hypothesis\n",
    "\n",
    "<em>Null hypotheses</em>: The two categorical variables are independent (no association between the two variables) - ( H_0:Variables are independent).\n",
    "\n",
    "Alternative hypotheses: The two categorical variables are dependent (there is an association between the two variables) H_A:Variables are dependent."
   ]
  },
  {
   "cell_type": "markdown",
   "metadata": {},
   "source": [
    "### Assumptions\n",
    "The variables are categorical (nominal), randomly sampled, and are independent.\n",
    "\n",
    "The levels of variables are mutually exclusive\n",
    "\n",
    "The expected frequency count for at least 80% of the cell in a contingency table is at least 5\n",
    "\n",
    "No expected cell count is = 0\n",
    "\n",
    "Observation data should be frequency counts and not percentages or transformed data"
   ]
  },
  {
   "cell_type": "markdown",
   "metadata": {},
   "source": [
    "An example from wikipedia used for task 2 below: \n",
    "Suppose there is a city of 1,000,000 residents with four neighborhoods: A, B, C, and D. A random sample of 650 residents of the city is taken and their occupation is recorded as \"white collar\", \"blue collar\", or \"no collar\". The null hypothesis is that each person's neighborhood of residence is independent of the person's occupational classification [2]. The data copied and saved as csv and read into jupyter notebook using panda below. \n",
    "\n",
    "The  test of independence analysis utilizes a cross tabulation table between the variables of interest  rows and  columns. Based on the cell counts, it is possible to test if there is a relationship, dependence, between the variables and to estimate the strength of the relationship[5]."
   ]
  },
  {
   "cell_type": "code",
   "execution_count": 2,
   "metadata": {},
   "outputs": [],
   "source": [
    "# Efficient numerical arrays.\n",
    "import numpy as np\n",
    "# Data frames.\n",
    "import pandas as pd\n",
    "# Mains statistics package.\n",
    "import scipy.stats as ss\n",
    "from scipy.stats import chi2_contingency\n",
    "\n",
    "# Better sized plots.\n",
    "plt.rcParams['figure.figsize'] = (12, 8)\n",
    "\n",
    "# Nicer colours and styles for plots.\n",
    "plt.style.use(\"fivethirtyeight\")"
   ]
  },
  {
   "cell_type": "code",
   "execution_count": 15,
   "metadata": {},
   "outputs": [
    {
     "data": {
      "text/html": [
       "<div>\n",
       "<style scoped>\n",
       "    .dataframe tbody tr th:only-of-type {\n",
       "        vertical-align: middle;\n",
       "    }\n",
       "\n",
       "    .dataframe tbody tr th {\n",
       "        vertical-align: top;\n",
       "    }\n",
       "\n",
       "    .dataframe thead th {\n",
       "        text-align: right;\n",
       "    }\n",
       "</style>\n",
       "<table border=\"1\" class=\"dataframe\">\n",
       "  <thead>\n",
       "    <tr style=\"text-align: right;\">\n",
       "      <th></th>\n",
       "      <th>A</th>\n",
       "      <th>B</th>\n",
       "      <th>C</th>\n",
       "      <th>D</th>\n",
       "      <th>total</th>\n",
       "    </tr>\n",
       "  </thead>\n",
       "  <tbody>\n",
       "    <tr>\n",
       "      <th>White collar</th>\n",
       "      <td>90</td>\n",
       "      <td>60</td>\n",
       "      <td>104</td>\n",
       "      <td>95</td>\n",
       "      <td>349</td>\n",
       "    </tr>\n",
       "    <tr>\n",
       "      <th>Blue collar</th>\n",
       "      <td>30</td>\n",
       "      <td>50</td>\n",
       "      <td>51</td>\n",
       "      <td>20</td>\n",
       "      <td>151</td>\n",
       "    </tr>\n",
       "    <tr>\n",
       "      <th>No collar</th>\n",
       "      <td>30</td>\n",
       "      <td>40</td>\n",
       "      <td>45</td>\n",
       "      <td>35</td>\n",
       "      <td>150</td>\n",
       "    </tr>\n",
       "    <tr>\n",
       "      <th>Total</th>\n",
       "      <td>150</td>\n",
       "      <td>150</td>\n",
       "      <td>200</td>\n",
       "      <td>150</td>\n",
       "      <td>650</td>\n",
       "    </tr>\n",
       "  </tbody>\n",
       "</table>\n",
       "</div>"
      ],
      "text/plain": [
       "                A    B    C    D  total\n",
       "White collar   90   60  104   95    349\n",
       "Blue collar    30   50   51   20    151\n",
       "No collar      30   40   45   35    150\n",
       "Total         150  150  200  150    650"
      ]
     },
     "execution_count": 15,
     "metadata": {},
     "output_type": "execute_result"
    }
   ],
   "source": [
    "ezedf = pd.read_csv(\"task2.csv\")\n",
    "ezedf"
   ]
  },
  {
   "cell_type": "code",
   "execution_count": 17,
   "metadata": {},
   "outputs": [],
   "source": [
    "myField1 = ezedf['A']\n",
    "myField2 = ezedf['B']\n",
    "myField3 = ezedf['C']\n",
    "myField4 = ezedf['D']"
   ]
  },
  {
   "cell_type": "code",
   "execution_count": 19,
   "metadata": {},
   "outputs": [],
   "source": [
    "chiVal, pVal, df, exp = chi2_contingency(ezedf)"
   ]
  },
  {
   "cell_type": "code",
   "execution_count": 20,
   "metadata": {},
   "outputs": [
    {
     "data": {
      "text/plain": [
       "(24.571202858582602,\n",
       " 0.016990737760739776,\n",
       " 12,\n",
       " array([[ 80.53846154,  80.53846154, 107.38461538,  80.53846154,\n",
       "         349.        ],\n",
       "        [ 34.84615385,  34.84615385,  46.46153846,  34.84615385,\n",
       "         151.        ],\n",
       "        [ 34.61538462,  34.61538462,  46.15384615,  34.61538462,\n",
       "         150.        ],\n",
       "        [150.        , 150.        , 200.        , 150.        ,\n",
       "         650.        ]]))"
      ]
     },
     "execution_count": 20,
     "metadata": {},
     "output_type": "execute_result"
    }
   ],
   "source": [
    "chiVal, pVal, df, exp"
   ]
  },
  {
   "cell_type": "code",
   "execution_count": 23,
   "metadata": {},
   "outputs": [
    {
     "name": "stdout",
     "output_type": "stream",
     "text": [
      "Chi value is 24.571202858582602\n",
      "P value is 0.016990737760739776\n",
      "Degree of freedom is value is 12\n",
      "Expected values: [[ 80.53846154  80.53846154 107.38461538  80.53846154 349.        ]\n",
      " [ 34.84615385  34.84615385  46.46153846  34.84615385 151.        ]\n",
      " [ 34.61538462  34.61538462  46.15384615  34.61538462 150.        ]\n",
      " [150.         150.         200.         150.         650.        ]]\n"
     ]
    }
   ],
   "source": [
    "print(\"The chi-square value is\", chiVal)\n",
    "print(\"P value is\", pVal)\n",
    "print(\"Degree of freedom is value is\", df)\n",
    "print(\"Expected values:\", exp)"
   ]
  },
  {
   "cell_type": "markdown",
   "metadata": {},
   "source": [
    "The output above shows the chi-square statistic, the p-value and the degrees of freedom followed by the expected counts.\n",
    "As expected, given the high p-value, the test result does not detect a significant relationship between the variables.\n",
    "\n",
    "24.571202858582602 is the chi-square value\n",
    "0.016990737760739776 is the p value which tells me that there's almost a 0.02 chance of \n",
    "having such a chi-square value or even more extreme if the assumption \n",
    "about the population is true, the assumption being that there is no association between the two\n",
    "variables. So usually if the pVal is below 0.05 then that's considered low\n",
    "and we would state in this case that there is a significant association between those variables.\n",
    "The degrees of freedom is usually an indication of the size of the table and it's simply\n",
    "the number of rows minus one and the number of columns minus one.\n",
    "The expected values are the values, the counts that we would expect\n",
    "if there would be no association.\n",
    "The chi-square test checks if these values(expected values) differ a lot from the \n",
    "values that we actually have.\n",
    "There should not be values in expected counts that is less than one.\n",
    "\n",
    "4 row and 5 column\n",
    "3 row and 4 column\n",
    "The degrees of freedom for a test of independence equals \n",
    "the product of the number of categories in each variable minus 1. \n",
    "In this case we have a 4x5 table so df = 3x4 = 12."
   ]
  },
  {
   "cell_type": "markdown",
   "metadata": {},
   "source": [
    "### Interpretation"
   ]
  },
  {
   "cell_type": "markdown",
   "metadata": {},
   "source": [
    "Above resulted in chi-square value of 24.571202858582602. The chance of such a value or higher than in the sample, if there is no association in the population is 0.016990737760739776 which is the p-value or siginificance level. \n",
    "\n",
    "It is considered 'significant'usually if this value is below 0.05 which in this it is. This indicates that there is an association between the two variables (one has an impact on the other). \n",
    "\n",
    "The p value obtained from chi-square test for independence is significant (p < 0.05), and therefore, we conclude that there is a significant association between."
   ]
  },
  {
   "cell_type": "markdown",
   "metadata": {},
   "source": [
    "The 24.571202858582602 is the chi-square value and 0.016990737760739776 is the p value which tells that there is almost a 0.02 chance of having such a chi-square value or even more extreme if the assumption about the population is true, the assumption being that there is no association the variables. Once it is below 0.05 we will say there is a significant association between the variables "
   ]
  },
  {
   "cell_type": "markdown",
   "metadata": {},
   "source": [
    "https://reneshbedre.github.io/blog/chisq.html\n",
    "\n",
    "As p-value is below 0.05, so we reject H0 and accept H1. So there is association between  and .\n",
    "\n",
    "Interpretation\n",
    "The p value obtained from chi-square test for independence is significant (p < 0.05), and therefore, we conclude that there is a significant association between treatments (treated and nontreated) with treatment outcome (cured and noncured).\n",
    "\n",
    "The p value obtained from the chi-square Goodness of Fit test is non-significant (p > 0.05 and fail to reject the null hypothesis), and therefore, we conclude that the observed genotypes counts after crosses is similar to that of expected counts as per the Mendelian ratio."
   ]
  },
  {
   "cell_type": "markdown",
   "metadata": {},
   "source": [
    "### References"
   ]
  },
  {
   "cell_type": "code",
   "execution_count": null,
   "metadata": {},
   "outputs": [],
   "source": [
    "1. https://reneshbedre.github.io/blog/chisq.html\n",
    "2. https://en.wikipedia.org/wiki/Chi-squared_test\n",
    "3. http://hamelg.blogspot.com/2015/11/python-for-data-analysis-part-25-chi.html\n",
    "4. https://www.youtube.com/watch?v=hTsxJqw2zMM\n",
    "5. https://www.pythonfordatascience.org/chi-square-test-of-independence-python/6. "
   ]
  }
 ],
 "metadata": {
  "kernelspec": {
   "display_name": "Python 3",
   "language": "python",
   "name": "python3"
  },
  "language_info": {
   "codemirror_mode": {
    "name": "ipython",
    "version": 3
   },
   "file_extension": ".py",
   "mimetype": "text/x-python",
   "name": "python",
   "nbconvert_exporter": "python",
   "pygments_lexer": "ipython3",
   "version": "3.8.3"
  }
 },
 "nbformat": 4,
 "nbformat_minor": 4
}
