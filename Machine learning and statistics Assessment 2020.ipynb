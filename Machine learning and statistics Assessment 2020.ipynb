{
 "cells": [
  {
   "cell_type": "markdown",
   "metadata": {},
   "source": [
    "<p align=\"center\">\n",
    "    <h1 align=\"center\">Machine Learning and Statistics Tasks 2020</h1>\n",
    "    <h1 align=\"center\"> Single Jupyter Notebook for Tasks</h1>\n",
    "    <h2 align=\"center\"> Author: Ezekiel Onaloye</h2>\n",
    "</p>"
   ]
  },
  {
   "cell_type": "markdown",
   "metadata": {},
   "source": [
    "## Introduction"
   ]
  },
  {
   "cell_type": "markdown",
   "metadata": {},
   "source": [
    "This repository contain summary, research findings, data visualization and python solution code for Machine Learning and Statistics Tasks 2020 as part of my course work for graduates of Level 8 studying for Higher Diploma in Science in Computing (Data Analytics) with GMIT in the Department of Computer Science and Applied Physics. The lecturer is Dr. Ian McLoughlin."
   ]
  },
  {
   "cell_type": "markdown",
   "metadata": {},
   "source": [
    "### Tasks "
   ]
  },
  {
   "cell_type": "markdown",
   "metadata": {},
   "source": [
    "### Task 1 - [Python function sqrt2](http://localhost:8888/notebooks/Task_1.ipynb)\n",
    "### Task 2 - [Chi-Squared (χ2) Test of Independence](http://localhost:8888/notebooks/Task_2.ipynb)\n",
    "### Task 3 - [Difference between STDEV.S and STDEV.P](http://localhost:8888/notebooks/Task_3%20.ipynb)\n",
    "### Task 4 - [Iris data set K-means clustering](http://localhost:8888/notebooks/Task_4.ipynb)"
   ]
  },
  {
   "cell_type": "markdown",
   "metadata": {},
   "source": [
    "### Imports for Task"
   ]
  },
  {
   "cell_type": "code",
   "execution_count": 3,
   "metadata": {},
   "outputs": [],
   "source": [
    "# Statistics package\n",
    "import scipy.stats\n",
    "\n",
    "# Numerical arrays\n",
    "import numpy as np\n",
    "\n",
    "# Data frames\n",
    "import pandas as pd\n",
    "\n",
    "# For plotting pairplot\n",
    "import seaborn as sns\n",
    "\n",
    "# Plotting library\n",
    "import matplotlib.pyplot as plt \n",
    "\n",
    "# To calculate contingency of a dataframe\n",
    "from scipy.stats import chi2_contingency\n",
    "\n",
    "# For machine learning\n",
    "import sklearn as skl\n",
    "\n",
    "# Machine learning with KMeans clustering\n",
    "from sklearn.cluster import KMeans\n",
    "\n",
    "# So we can load the Iris dataset\n",
    "from sklearn import datasets"
   ]
  },
  {
   "cell_type": "code",
   "execution_count": null,
   "metadata": {},
   "outputs": [],
   "source": []
  }
 ],
 "metadata": {
  "kernelspec": {
   "display_name": "Python 3",
   "language": "python",
   "name": "python3"
  },
  "language_info": {
   "codemirror_mode": {
    "name": "ipython",
    "version": 3
   },
   "file_extension": ".py",
   "mimetype": "text/x-python",
   "name": "python",
   "nbconvert_exporter": "python",
   "pygments_lexer": "ipython3",
   "version": "3.8.3"
  }
 },
 "nbformat": 4,
 "nbformat_minor": 4
}
