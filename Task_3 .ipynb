{
 "cells": [
  {
   "cell_type": "markdown",
   "metadata": {},
   "source": [
    "<p align=\"center\">\n",
    "    <h1 align=\"center\">Machine Learning and Statistics Tasks 2020</h1>\n",
    "    <h1 align=\"center\"> Task 3: Difference between STDEV.S and STDEV.P</h1>\n",
    "    <h2 align=\"center\"> Author: Ezekiel Onaloye</h2>\n",
    "    <h2 align=\"center\"> Created: December 2020 </h2> \n",
    "</p>"
   ]
  },
  {
   "cell_type": "markdown",
   "metadata": {},
   "source": [
    "![Standard Deviation](img/standarddeviation.jpg)"
   ]
  },
  {
   "cell_type": "markdown",
   "metadata": {},
   "source": [
    "### Task 3\n",
    "\n",
    "Research these Excel functions, writing a note in a Markdown cell about the difference between them. Then use numpy to perform a simulation demonstrating that the STDEV.S calculation is a better estimate for the standard deviation of a population when performed on a sample."
   ]
  },
  {
   "cell_type": "markdown",
   "metadata": {},
   "source": [
    "### Introduction\n",
    "\n",
    "The concept of Standard Deviation was introduced by Karl Pearson in 1893.\n",
    "\n",
    "standard deviation is the square root of the variance and measures the amount of variation or dispersion of a dataset(set of numeric values).The variance is often used to quantify spread or dispersion. Spread is a characteristic of a sample or population that describes how much variability there is in it [5] \n",
    "\n",
    "A high variance tells us that the values in our dataset are far from their mean. So, our data will have high levels of variability. On the other hand, a low variance tells us that the values are quite close to the mean. In this case, the data will have low levels of variability.\n",
    "\n",
    "Microsoft excel calculates standard deviation for two different scenarios, one is for Standard Deviation for (Sample) while the other is Standard Deviation for (Population) using two different function known as STDEV.P for population and STDEV.S for sample. \n",
    "\n",
    "\n",
    "n = total number of samples\n",
    "n – 1 is known as the Bessel’s correction for SD of sample. \n",
    "As the number of samples reduces, the difference between STDEV.S and STDEV.P increases. \n",
    "\n",
    "For this task variance calculation wont be covered but the standard deviation STDDEV.S and STDDEV.P will be covered. Low values of standard deviation tell us that individual values are closer to the mean. High values, on the other hand, tell us that individual observations are far away from the mean of the data."
   ]
  },
  {
   "attachments": {},
   "cell_type": "markdown",
   "metadata": {},
   "source": [
    "### Difference between Excel's STDEV.S and STD.P \n",
    "\n",
    "\n",
    "\n",
    "\n",
    "Excel STDEV.S calculates the sample standard deviation while STDEV.P calculates the population standard deviation by default.  \n",
    "\n",
    "<b>STDEV.P</b> = Standard Deviation for (Population), used when we have data for whole population and have sufficiently large sample data and want to extrapolate the SD to whole population. STDEV.P is the routinely used standard deviation formula. \n",
    "\n",
    "<b>STDEV.S</b> = Standard Deviation for (Sample), used when we have small sample data or do not want to extrapolate even for large data. \n",
    "\n",
    "![samplestandarddeviation.JPG](img/samplestandarddeviation.JPG)\n",
    "\n"
   ]
  },
  {
   "cell_type": "markdown",
   "metadata": {},
   "source": [
    "### Quick Example and Explanation \n",
    "Standard Deviation is also known as root-mean square deviation as it is the square root of means of the squared deviations from the arithmetic mean. From knowledge gain from researching task 3 I can simplify standard deviation saying it is kind the mean of the mean of a dataset. \n",
    "\n",
    "Standard deviation is a statistic that tells you how tightly all the various examples are clustered around the mean in a set of data. When the examples are pretty tightly bunched together and the bell-shaped curve is steep, the standard deviation is small. When the examples are spread apart and the bell curve is relatively flat, that tells you you have a relatively large standard deviation.\n",
    "\n",
    "X = 8 + 9 + 10 + 11 + 12 = mean of x = 50/5 = 10\n",
    "The average distance of those numbers from 10 which is the mean.\n",
    "For 8 is 2 away, for 9 is 1 away, for 10 is 0 away, for 11 is 1 away, and for 12 and 12 is 2 away.\n",
    "Add those numbers up (2+1+0+1+2 = 6).\n",
    "divide them by the number of data points we examined (6/5 = 1.2). In our case, the Mean = 10 and the Standard Deviation = 1.2.\n",
    "If there were negative numbers, we will typically square the numbers and take the square root because that makes them all positive.\n",
    "To summarize, the standard deviation is the average deviation from the average."
   ]
  },
  {
   "cell_type": "code",
   "execution_count": null,
   "metadata": {},
   "outputs": [],
   "source": [
    "calculated using the data from the full population\n",
    "calculated using sample from a given population "
   ]
  },
  {
   "cell_type": "code",
   "execution_count": 5,
   "metadata": {},
   "outputs": [],
   "source": [
    "#import numpy\n",
    "import numpy as np \n",
    "\n",
    "#define dataset\n",
    "data = np.array([4,4,3,4,1,1,4,2,4,3,2,1,4,3,2,3,2,2,3,4,3,3,3,1,2,2,2,2,1,1])"
   ]
  },
  {
   "cell_type": "code",
   "execution_count": 11,
   "metadata": {},
   "outputs": [
    {
     "data": {
      "text/plain": [
       "array([4, 4, 3, 4, 1, 1, 4, 2, 4, 3, 2, 1, 4, 3, 2, 3, 2, 2, 3, 4, 3, 3,\n",
       "       3, 1, 2, 2, 2, 2, 1, 1])"
      ]
     },
     "execution_count": 11,
     "metadata": {},
     "output_type": "execute_result"
    }
   ],
   "source": [
    "data"
   ]
  },
  {
   "cell_type": "code",
   "execution_count": 6,
   "metadata": {},
   "outputs": [
    {
     "data": {
      "text/plain": [
       "1.0561986345169905"
      ]
     },
     "execution_count": 6,
     "metadata": {},
     "output_type": "execute_result"
    }
   ],
   "source": [
    "np.std(data)"
   ]
  },
  {
   "cell_type": "code",
   "execution_count": 7,
   "metadata": {},
   "outputs": [],
   "source": [
    "#import the statistics module.\n",
    "import statistics"
   ]
  },
  {
   "cell_type": "code",
   "execution_count": 9,
   "metadata": {},
   "outputs": [
    {
     "data": {
      "text/plain": [
       "1.0561986345169907"
      ]
     },
     "execution_count": 9,
     "metadata": {},
     "output_type": "execute_result"
    }
   ],
   "source": [
    "statistics.pstdev([4,4,3,4,1,1,4,2,4,3,2,1,4,3,2,3,2,2,3,4,3,3,3,1,2,2,2,2,1,1])"
   ]
  },
  {
   "cell_type": "code",
   "execution_count": 10,
   "metadata": {},
   "outputs": [
    {
     "data": {
      "text/plain": [
       "1.0742546199601597"
      ]
     },
     "execution_count": 10,
     "metadata": {},
     "output_type": "execute_result"
    }
   ],
   "source": [
    "statistics.stdev([4,4,3,4,1,1,4,2,4,3,2,1,4,3,2,3,2,2,3,4,3,3,3,1,2,2,2,2,1,1])"
   ]
  },
  {
   "cell_type": "code",
   "execution_count": 12,
   "metadata": {},
   "outputs": [
    {
     "ename": "NameError",
     "evalue": "name 'stdev' is not defined",
     "output_type": "error",
     "traceback": [
      "\u001b[1;31m---------------------------------------------------------------------------\u001b[0m",
      "\u001b[1;31mNameError\u001b[0m                                 Traceback (most recent call last)",
      "\u001b[1;32m<ipython-input-12-5a7f53750fa9>\u001b[0m in \u001b[0;36m<module>\u001b[1;34m\u001b[0m\n\u001b[1;32m----> 1\u001b[1;33m \u001b[0mstdev\u001b[0m\u001b[1;33m(\u001b[0m\u001b[1;33m[\u001b[0m\u001b[1;36m1.5\u001b[0m\u001b[1;33m,\u001b[0m \u001b[1;36m2.5\u001b[0m\u001b[1;33m,\u001b[0m \u001b[1;36m2.5\u001b[0m\u001b[1;33m,\u001b[0m \u001b[1;36m2.75\u001b[0m\u001b[1;33m,\u001b[0m \u001b[1;36m3.25\u001b[0m\u001b[1;33m,\u001b[0m \u001b[1;36m4.75\u001b[0m\u001b[1;33m]\u001b[0m\u001b[1;33m)\u001b[0m\u001b[1;33m\u001b[0m\u001b[1;33m\u001b[0m\u001b[0m\n\u001b[0m",
      "\u001b[1;31mNameError\u001b[0m: name 'stdev' is not defined"
     ]
    }
   ],
   "source": [
    "stdev([1.5, 2.5, 2.5, 2.75, 3.25, 4.75])"
   ]
  },
  {
   "cell_type": "markdown",
   "metadata": {},
   "source": [
    "> <b><p style=\"font-size:20px\">statistics.stdev(data)</p></b>\n",
    "> \n",
    "> Return the sample standard deviation (the square root of the sample variance) \n",
    ">\n",
    "> <b><p style=\"font-size:20px\">statistics.stdev.(data)</p></b>\n",
    ">"
   ]
  },
  {
   "cell_type": "markdown",
   "metadata": {},
   "source": [
    "References "
   ]
  },
  {
   "cell_type": "code",
   "execution_count": null,
   "metadata": {},
   "outputs": [],
   "source": [
    "[1] https://support.microsoft.com/en-us/office/stdev-s-function-7d69cf97-0c1f-4acf-be27-f3e83904cc23\n",
    "[2] https://support.microsoft.com/en-us/office/stdev-p-function-6e917c05-31a0-496f-ade7-4f4e7462f285\n",
    "[3] https://github.com/python/cpython/blob/3.9/Lib/statistics.py\n",
    "[4] https://docs.python.org/3/library/statistics.html\n",
    "[5] https://stackabuse.com/calculating-variance-and-standard-deviation-in-python/\n",
    "[6] https://www.youtube.com/watch?app=desktop&v=2ueaL7Rh5XM \n",
    "[7] https://www.quora.com/What-is-standard-deviation \n",
    "\n",
    "    "
   ]
  }
 ],
 "metadata": {
  "kernelspec": {
   "display_name": "Python 3",
   "language": "python",
   "name": "python3"
  },
  "language_info": {
   "codemirror_mode": {
    "name": "ipython",
    "version": 3
   },
   "file_extension": ".py",
   "mimetype": "text/x-python",
   "name": "python",
   "nbconvert_exporter": "python",
   "pygments_lexer": "ipython3",
   "version": "3.8.3"
  }
 },
 "nbformat": 4,
 "nbformat_minor": 4
}
