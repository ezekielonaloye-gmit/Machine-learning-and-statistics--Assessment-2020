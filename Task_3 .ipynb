{
 "cells": [
  {
   "cell_type": "markdown",
   "metadata": {},
   "source": [
    "<p align=\"center\">\n",
    "    <h1 align=\"center\">Machine Learning and Statistics Tasks 2020</h1>\n",
    "    <h1 align=\"center\"> Task 3: Difference between STDEV.S and STDEV.P</h1>\n",
    "    <h2 align=\"center\"> Author: Ezekiel Onaloye</h2>\n",
    "    <h2 align=\"center\"> Created: December 2020 </h2> \n",
    "</p>"
   ]
  },
  {
   "cell_type": "markdown",
   "metadata": {},
   "source": [
    "![Standard Deviation](img/standarddeviation.jpg)"
   ]
  },
  {
   "cell_type": "markdown",
   "metadata": {},
   "source": [
    "### Task 3\n",
    "\n",
    "Research these Excel functions, writing a note in a Markdown cell about the difference between them. Then use numpy to perform a simulation demonstrating that the STDEV.S calculation is a better estimate for the standard deviation of a population when performed on a sample."
   ]
  },
  {
   "cell_type": "markdown",
   "metadata": {},
   "source": [
    "### Introduction\n",
    "\n",
    "The concept of Standard Deviation was introduced by Karl Pearson in 1893.The standard deviation is a measure of how widely values are dispersed from the average value (the mean).\n",
    "\n",
    "Standard deviation is the square root of the variance and measures the amount of variation or dispersion of a dataset(set of numeric values).The variance is often used to quantify spread or dispersion. Spread is a characteristic of a sample or population that describes how much variability there is in it [5]. \n",
    "\n",
    "A high variance tells us that the values in our dataset are far from their mean which imply high levels of variability. On the other hand, a low variance tells us that the values are quite close to the mean. In this case, the data will have low levels of variability.\n",
    "\n",
    "Microsoft excel calculates standard deviation for two different scenarios, one for Standard Deviation for (Sample) and Standard Deviation for (Population) using two different function known as STDEV.P for population and STDEV.S for sample. \n",
    "\n",
    "STDEV.P for population: STDEV.P(number1,[number2],...)\n",
    "\n",
    "STDEV.S for sample: STDEV.S(number1,[number2],...)\n",
    "\n",
    "As the number of samples reduces, the difference between STDEV.S and STDEV.P increases. The difference between dividing by n-1 or n was developed by Friedrich Bessel to counteract the systematic underestimation of sample variance. By dividing by a smaller number, the calculated value of standard deviation for a sample was increased.If you take many samples from a given population, ideally the standard deviation of the samples would have a mean value equal to that of the standard deviation of the population[8].\n",
    "\n",
    "For this task variance calculation wont be covered but the standard deviation STDDEV.S and STDDEV.P will be covered. Low values of standard deviation tell us that individual values are closer to the mean. High values, on the other hand, tell us that individual observations are far away from the mean of the data."
   ]
  },
  {
   "cell_type": "markdown",
   "metadata": {},
   "source": [
    "### Example \n",
    "\n",
    "<b> Example 1 </b>\n",
    "\n",
    "The mean age of the 15 Data Science Executive Course students is:\n",
    "\n",
    "STEP – 1: Calculate the Mean\n",
    "\n",
    "Mean (Age) = (22 + 23 + 25 + 27 + 28 + 35 + 32 + 28 + 30 + 40 + 24 + 26 + 27 + 29 + 31) / 15 => (427 / 15)\n",
    "\n",
    "Mean (Age) = 28.47\n",
    "\n",
    "STEP – 2: Calculate the Standard Deviation\n",
    "\n",
    "Sample SD = 28.47/(15-1) = 22.27 and SQRT(22.27) = 4.72 as the excel show in example 1 of MS Excel Function - STDEV.S and STDEV.P. Calculated using sample from a given population.\n",
    "\n",
    "Population SD = 28.47/15 = 20.78 and SQRT(20.78) = 4.56 as the excel show in example 1 of MS Excel Function - STDEV.S and STDEV.P. Calculated using the data from the full population.\n",
    "\n",
    "Mean = 10 and the STDEV.S = 4.72​ and STDEV.P = 4.56\n",
    "\n",
    "With negative numbers, the numbers are squared to make all positive and square root applied. \n",
    "\n",
    "![example.png](img/example.png)\n",
    "\n",
    "<b> Example 2 </b>\n",
    "![example2.png](img/example2.png)"
   ]
  },
  {
   "cell_type": "markdown",
   "metadata": {},
   "source": [
    "### Difference between Excel's STDEV.S and STD.P \n",
    "\n",
    "![standard-deviation.png](img/standard-deviation.png)\n",
    "\n",
    "Excel STDEV.S calculates the sample standard deviation while STDEV.P calculates the population standard deviation by default.  \n",
    "\n",
    "<b>STDEV.P</b> = Standard Deviation for (Population), used when we have data for whole population and have sufficiently large sample data and want to extrapolate the SD to whole population. STDEV.P is the routinely used standard deviation formula. \n",
    "\n",
    "<b>STDEV.S</b> = Standard Deviation for (Sample), used when we have small sample data or do not want to extrapolate even for large data. \n",
    "\n",
    "As noticed in the image the difference can be seen in the denominator of the equation. When we compute sample standard deviation  we divide by N- 1 instead of only using N as we do when we compute population standard deviation.The reason for this is that in statistics in order to get an unbiased estimator for population standard deviation when calculating it from the sample we should be using (N-1). This is reffered to one degree of freedom based on my research, 1 is subracted in order to get an unbiased estimator [9]. \n",
    "\n",
    "The n – 1 approach is known as the Bessel’s correction for standard deviation of sample. \n",
    "\n",
    "To achieve unbiased estimator when using specific libraries best thing is to use parameter ddof to control the degrees of freedom. \n",
    "\n",
    "df.weight.std()\n",
    "13.316656236958787\n",
    "\n",
    "import numpy as np\n",
    "np.std(df.weight)\n",
    "10.873004286866728\n",
    "\n",
    "You can change degree in of freedom in NumPy to change this to unbiased estimator by using ddof parameter:\n",
    "\n",
    "import numpy as np\n",
    "np.std(df.weight, ddof=1)\n",
    "13.316656236958787\n",
    "\n",
    "\n",
    "Similarly, you can change default pandas standard deviation computation not to use degrees of freedom:\n",
    "\n",
    "df.weight.std(ddof=0)\n",
    "10.873004286866728"
   ]
  },
  {
   "cell_type": "markdown",
   "metadata": {},
   "source": [
    "### Statistics standard deviation function"
   ]
  },
  {
   "cell_type": "code",
   "execution_count": 80,
   "metadata": {},
   "outputs": [],
   "source": [
    "#import the statistics module.\n",
    "import statistics"
   ]
  },
  {
   "cell_type": "code",
   "execution_count": 81,
   "metadata": {},
   "outputs": [
    {
     "data": {
      "text/plain": [
       "4.558752265941002"
      ]
     },
     "execution_count": 81,
     "metadata": {},
     "output_type": "execute_result"
    }
   ],
   "source": [
    "statistics.pstdev([22,23,25,27,28,35,32,28,30,40,24,26,27,29,31])"
   ]
  },
  {
   "cell_type": "code",
   "execution_count": 82,
   "metadata": {},
   "outputs": [
    {
     "data": {
      "text/plain": [
       "4.718756898449704"
      ]
     },
     "execution_count": 82,
     "metadata": {},
     "output_type": "execute_result"
    }
   ],
   "source": [
    "statistics.stdev([22,23,25,27,28,35,32,28,30,40,24,26,27,29,31])"
   ]
  },
  {
   "cell_type": "markdown",
   "metadata": {},
   "source": [
    "### Numpy standard deviation function"
   ]
  },
  {
   "cell_type": "markdown",
   "metadata": {},
   "source": [
    "Numpy standard deviation function is useful in finding the spread of a distribution of array values.The standard deviation of an array of numbers x calculated using numpy as np.sqrt(np.sum((x - np.mean(x))**2)/len(x)) performed by STDEV.P function.\n",
    "\n",
    "<b>numpy.std(a, axis=None, dtype=None, out=None, ddof=0, keepdims=some_value)</b>\n",
    "\n",
    "> <b>a:array-like </b> – Input array or object that can be converted to an array, values of this array will be used for finding the median.\n",
    "\n",
    "> <b>axis:</b> int or sequence of int or None (optional) – Axis or axes along which the medians are computed. The default is to compute the median along a flattened version of the array.\n",
    "\n",
    "> <b>out: ndarray (optional)</b> – Alternative output array in which to place the result. It must have the same shape as the expected output.\n",
    "\n",
    "> <b>ddof:int (optional)</b> – This means delta degrees of freedom. The divisor used in calculations is N – ddof, where N represents the number of elements. By default ddof is zero.\n",
    "\n",
    "> <b>keepdims – bool (optional)</b> – If this is set to True, the axes which are reduced are left in the result as dimensions with size one. With this option, the result will broadcast correctly against the original arr."
   ]
  },
  {
   "cell_type": "code",
   "execution_count": 83,
   "metadata": {},
   "outputs": [
    {
     "name": "stdout",
     "output_type": "stream",
     "text": [
      "\n",
      "numpy np.sqrt(np.sum((x - np.mean(x))**2)/len(x) of X is: 4.56\n",
      "\n",
      "numpy np.sqrt(np.sum((x - np.mean(x))**2)/len(x)-1) of X is: 4.45\n"
     ]
    }
   ],
   "source": [
    "import numpy as np\n",
    "\n",
    "# The standard deviation of an array of numbers x calculated using numpy np.sqrt(np.sum((x - np.mean(x))**2)/len(x))\n",
    "# The standard deviation of an array of numbers x calculated using numpy np.sqrt(np.sum((x - np.mean(x))**2)/len(x)-1)\n",
    "\n",
    "x = [22,23,25,27,28,35,32,28,30,40,24,26,27,29,31]\n",
    "\n",
    "a = np.sqrt(np.sum((x - np.mean(x))**2)/len(x))\n",
    "\n",
    "b = np.sqrt(np.sum((x - np.mean(x))**2)/len(x)-1)\n",
    "\n",
    "print(\"\")\n",
    "print(\"numpy np.sqrt(np.sum((x - np.mean(x))**2)/len(x) of X is:\",format(a,'.2f'))\n",
    "print(\"\")\n",
    "print(\"numpy np.sqrt(np.sum((x - np.mean(x))**2)/len(x)-1) of X is:\", format(b,'.2f'))"
   ]
  },
  {
   "cell_type": "code",
   "execution_count": 84,
   "metadata": {},
   "outputs": [
    {
     "name": "stdout",
     "output_type": "stream",
     "text": [
      "\n",
      "Population standard deviation is: 4.56\n",
      "\n",
      "Sample standard deviation is: 4.72\n"
     ]
    }
   ],
   "source": [
    "print(\"\")\n",
    "a = np.std([22,23,25,27,28,35,32,28,30,40,24,26,27,29,31])\n",
    "print('Population standard deviation is:', format(a,'.2f'))\n",
    "print(\"\")\n",
    "b = np.std([[22,23,25,27,28,35,32,28,30,40,24,26,27,29,31]], ddof=1)\n",
    "print('Sample standard deviation is:',format(b,'.2f'))"
   ]
  },
  {
   "cell_type": "markdown",
   "metadata": {},
   "source": [
    "### Pandas standard deviation function"
   ]
  },
  {
   "cell_type": "code",
   "execution_count": 45,
   "metadata": {},
   "outputs": [
    {
     "data": {
      "text/html": [
       "<div>\n",
       "<style scoped>\n",
       "    .dataframe tbody tr th:only-of-type {\n",
       "        vertical-align: middle;\n",
       "    }\n",
       "\n",
       "    .dataframe tbody tr th {\n",
       "        vertical-align: top;\n",
       "    }\n",
       "\n",
       "    .dataframe thead th {\n",
       "        text-align: right;\n",
       "    }\n",
       "</style>\n",
       "<table border=\"1\" class=\"dataframe\">\n",
       "  <thead>\n",
       "    <tr style=\"text-align: right;\">\n",
       "      <th></th>\n",
       "      <th>A</th>\n",
       "    </tr>\n",
       "  </thead>\n",
       "  <tbody>\n",
       "    <tr>\n",
       "      <th>0</th>\n",
       "      <td>22</td>\n",
       "    </tr>\n",
       "    <tr>\n",
       "      <th>1</th>\n",
       "      <td>23</td>\n",
       "    </tr>\n",
       "    <tr>\n",
       "      <th>2</th>\n",
       "      <td>25</td>\n",
       "    </tr>\n",
       "    <tr>\n",
       "      <th>3</th>\n",
       "      <td>27</td>\n",
       "    </tr>\n",
       "    <tr>\n",
       "      <th>4</th>\n",
       "      <td>28</td>\n",
       "    </tr>\n",
       "    <tr>\n",
       "      <th>5</th>\n",
       "      <td>35</td>\n",
       "    </tr>\n",
       "    <tr>\n",
       "      <th>6</th>\n",
       "      <td>32</td>\n",
       "    </tr>\n",
       "    <tr>\n",
       "      <th>7</th>\n",
       "      <td>28</td>\n",
       "    </tr>\n",
       "    <tr>\n",
       "      <th>8</th>\n",
       "      <td>30</td>\n",
       "    </tr>\n",
       "    <tr>\n",
       "      <th>9</th>\n",
       "      <td>40</td>\n",
       "    </tr>\n",
       "    <tr>\n",
       "      <th>10</th>\n",
       "      <td>24</td>\n",
       "    </tr>\n",
       "    <tr>\n",
       "      <th>11</th>\n",
       "      <td>26</td>\n",
       "    </tr>\n",
       "    <tr>\n",
       "      <th>12</th>\n",
       "      <td>27</td>\n",
       "    </tr>\n",
       "    <tr>\n",
       "      <th>13</th>\n",
       "      <td>29</td>\n",
       "    </tr>\n",
       "    <tr>\n",
       "      <th>14</th>\n",
       "      <td>31</td>\n",
       "    </tr>\n",
       "  </tbody>\n",
       "</table>\n",
       "</div>"
      ],
      "text/plain": [
       "     A\n",
       "0   22\n",
       "1   23\n",
       "2   25\n",
       "3   27\n",
       "4   28\n",
       "5   35\n",
       "6   32\n",
       "7   28\n",
       "8   30\n",
       "9   40\n",
       "10  24\n",
       "11  26\n",
       "12  27\n",
       "13  29\n",
       "14  31"
      ]
     },
     "execution_count": 45,
     "metadata": {},
     "output_type": "execute_result"
    }
   ],
   "source": [
    "# Data frame with just a columns and 15 rows\n",
    "import pandas as pd\n",
    "df = pd.DataFrame({'A':[22,23,25,27,28,35,32,28,30,40,24,26,27,29,31]})\n",
    "#df.head()\n",
    "df"
   ]
  },
  {
   "cell_type": "code",
   "execution_count": 64,
   "metadata": {},
   "outputs": [
    {
     "data": {
      "text/plain": [
       "4.718756898449704"
      ]
     },
     "execution_count": 64,
     "metadata": {},
     "output_type": "execute_result"
    }
   ],
   "source": [
    "z = df.A.std()\n",
    "z"
   ]
  },
  {
   "cell_type": "markdown",
   "metadata": {},
   "source": [
    "### Compare Numpy STD / Panda STD function"
   ]
  },
  {
   "cell_type": "code",
   "execution_count": 79,
   "metadata": {},
   "outputs": [
    {
     "name": "stdout",
     "output_type": "stream",
     "text": [
      "\n",
      "Below is the Standard Deviation of X using Numpy STD\n",
      "===== 4.558752265941003 =====\n",
      "\n",
      "Below is the Standard Deviation of X using Pandas\n",
      "===== 4.718756898449704 =====\n",
      "\n",
      "We got 4.558752265941003 and 4.718756898449704 .They are quite different numbers indeed so why is it so?\n"
     ]
    }
   ],
   "source": [
    "# Numpy Standard Deviation\n",
    "x = np.std([22,23,25,27,28,35,32,28,30,40,24,26,27,29,31])\n",
    "\n",
    "print(\"\")\n",
    "print(\"Below is the Standard Deviation of X using Numpy STD\")\n",
    "print(\"=====\",format(x),\"=====\")\n",
    "\n",
    "df = pd.DataFrame({'A':[22,23,25,27,28,35,32,28,30,40,24,26,27,29,31]})\n",
    "print(\"\")\n",
    "print(\"Below is the Standard Deviation of X using Pandas\")\n",
    "print(\"=====\",z,\"=====\")\n",
    "print(\"\")\n",
    "\n",
    "print('We got', x, \"and\", z,\".They are quite different numbers indeed so why is it so?\")"
   ]
  },
  {
   "cell_type": "markdown",
   "metadata": {},
   "source": [
    "### Conclusion\n",
    "\n",
    "The reason for the difference in the numbers above this is the fact that the packages use a different equation to compute the standard deviation. The default equation for standard deviation is the STDEV.P used by Numpy and Excel.\n",
    "\n",
    "When  population dataset is collected most time the plan is to work work with samples of populations rather than whole populations itself.\n",
    "\n",
    "When working with samples the new formula for standard deviations is used by Pandas and Excel.\n",
    "\n",
    "\n",
    "Numpy uses population standard deviation by default as we can see above.\n",
    "\n",
    "\n",
    "It is better to use N-1 in order to get the unbiased estimator as most times samples is used,not entire populations. This is why pandas default standard deviation is computed using one degree of freedom.\n",
    "\n",
    "<em>Facts</em>\n",
    "\n",
    "Pandas uses by default sample standard deviation.\n",
    "NumPy uses by default population standard deviation."
   ]
  },
  {
   "cell_type": "markdown",
   "metadata": {},
   "source": [
    "### References "
   ]
  },
  {
   "cell_type": "code",
   "execution_count": null,
   "metadata": {},
   "outputs": [],
   "source": [
    "[1] https://support.microsoft.com/en-us/office/stdev-s-function-7d69cf97-0c1f-4acf-be27-f3e83904cc23\n",
    "[2] https://github.com/python/cpython/blob/3.9/Lib/statistics.py\n",
    "[3] https://docs.python.org/3/library/statistics.html\n",
    "[4] https://stackabuse.com/calculating-variance-and-standard-deviation-in-python/\n",
    "[5] https://www.youtube.com/watch?app=desktop&v=2ueaL7Rh5XM \n",
    "[6] https://www.quora.com/What-is-standard-deviation     \n",
    "[7] https://www.experts-exchange.com/questions/28117550/Understanding-Statistics-Difference-between-STDEV-P-and-STDEV-S-in-Excel-maybe-lotus-too.html\n",
    "[8] https://machinelearningknowledge.ai/tutorial-numpy-mean-numpy-median-numpy-mode-numpy-standard-deviation-in-python\n",
    "[9] https://towardsdatascience.com/why-computing-standard-deviation-in-pandas-and-numpy-yields-different-results-5b475e02d112"
   ]
  }
 ],
 "metadata": {
  "kernelspec": {
   "display_name": "Python 3",
   "language": "python",
   "name": "python3"
  },
  "language_info": {
   "codemirror_mode": {
    "name": "ipython",
    "version": 3
   },
   "file_extension": ".py",
   "mimetype": "text/x-python",
   "name": "python",
   "nbconvert_exporter": "python",
   "pygments_lexer": "ipython3",
   "version": "3.8.3"
  }
 },
 "nbformat": 4,
 "nbformat_minor": 4
}
