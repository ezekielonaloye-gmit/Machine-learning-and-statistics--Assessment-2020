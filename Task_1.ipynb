{
 "cells": [
  {
   "cell_type": "markdown",
   "metadata": {},
   "source": [
    "<p align=\"center\">\n",
    "    <h1 align=\"center\">Machine Learning and Statistics Tasks 2020</h1>\n",
    "    <h1 align=\"center\"> Task 1: Python function sqrt2</h1>\n",
    "    <h2 align=\"center\"> Author: Ezekiel Onaloye</h2>\n",
    "    <h2 align=\"center\"> Created: November 2020 </h2> \n",
    "</p>"
   ]
  },
  {
   "cell_type": "markdown",
   "metadata": {},
   "source": [
    "![squareroot](img/sqrt2.jpg)"
   ]
  },
  {
   "cell_type": "markdown",
   "metadata": {},
   "source": [
    "### Task 1\n",
    "Write a Python function called sqrt2 that calculates and prints to the screen the square root of 2 to 100 decimal places. "
   ]
  },
  {
   "cell_type": "markdown",
   "metadata": {},
   "source": [
    "### Introduction\n",
    "\n",
    "A square root of a number is a value that gives the original number when multiplied by itself. For example, 2 x 2 = 4, so a square root of 4 is 2. -2 x -2 is 4 too, so -2 is also a square root of 4.\n",
    "\n",
    "A square root is like asking ourselves, \"what value can we multiply by itself to get this outcome?\". That multiplication by itself, is also called squaring. So, in other words, 3 squared is 9, and so the square root of 9 is 3."
   ]
  },
  {
   "cell_type": "markdown",
   "metadata": {},
   "source": [
    "### Simple Python function sqrt2"
   ]
  },
  {
   "cell_type": "markdown",
   "metadata": {},
   "source": [
    "<h4 align=\"left\"> Algorithm </h4>\n",
    "\n",
    "1. Take the input from the user\n",
    " \n",
    "2. Create a function that takes one argument\n",
    " \n",
    "3. Then, if the number is negative, return nothing \n",
    " \n",
    "4. As a square root of a number is simply the number raised to the power 0.5, raise the given number to the power of 0.5\n",
    "\n",
    "5. This will give us the square root of the number; return it\n",
    " \n",
    "6. Print out the result to the user"
   ]
  },
  {
   "cell_type": "code",
   "execution_count": 1,
   "metadata": {},
   "outputs": [
    {
     "name": "stdout",
     "output_type": "stream",
     "text": [
      "Please input the base value: 2\n",
      "The square root of 2 is 1.4142135623730951454746218587388284504413604736328125000000000000000000000000000000000000000000000000\n"
     ]
    }
   ],
   "source": [
    "# Python function called sqrt2 \n",
    "# Adapted from https://www.educative.io/edpresso/how-to-take-the-square-root-of-a-number-in-python\n",
    "# Function takes input,calculates and prints to the screen the square root of 2 to 100 decimal places\n",
    "\n",
    "n = int(input(\"Please input the base value: \"))\n",
    " \n",
    "def sqrt(n):\n",
    "  if n < 0:\n",
    "    return\n",
    "  else:\n",
    "    return n**0.5\n",
    "  \n",
    "print(\"The square root of\", n, \"is\", format(sqrt(n),'.100f'))"
   ]
  },
  {
   "cell_type": "markdown",
   "metadata": {},
   "source": [
    "### Python function sqrt2"
   ]
  },
  {
   "cell_type": "markdown",
   "metadata": {},
   "source": [
    "<h4 align=\"left\"> Algorithm </h4> \n",
    "\n",
    "1. Let n be the given number\n",
    "2. create function sqrt2(takes a parameter)\n",
    "3. Given number stored as variable x\n",
    "4. y equate given number + 1 divided by 2\n",
    "5. while y is less than x\n",
    "6. then x = y\n",
    "7. y store the value of x+n divided by itself and overall by 2\n",
    "8. return y as the square root"
   ]
  },
  {
   "cell_type": "code",
   "execution_count": 1,
   "metadata": {},
   "outputs": [
    {
     "name": "stdout",
     "output_type": "stream",
     "text": [
      "\n",
      "Please enter any number to find square root: 2\n",
      "Square root of 2 the given number is 1.4142135623730949234300169337075203657150268554687500000000000000000000000000000000000000000000000000\n"
     ]
    }
   ],
   "source": [
    "# Python function called sqrt2 \n",
    "# Adapted from \n",
    "# Function takes input,calculates and prints to the screen the square root of 2 to 100 decimal places\n",
    "\n",
    "# user asked to enter a number \n",
    "print(\"\")\n",
    "n = int(input(\"Please enter any number to find square root: \"))\n",
    "\n",
    "# function declared\n",
    "def sqrt2(n):\n",
    "    # number entered stored as x, x is a variable carrying entered number\n",
    "    x = n\n",
    "    # y store x + 1 divided by 2 based on \n",
    "    y = (x + 1) / 2\n",
    "    while y < x:\n",
    "        x = y\n",
    "        y = (x + n / x) / 2\n",
    "    return y;\n",
    "print(\"Square root of\", n, \"the given number is %.100f\" % sqrt2(n))"
   ]
  },
  {
   "cell_type": "markdown",
   "metadata": {},
   "source": [
    "### References"
   ]
  },
  {
   "cell_type": "markdown",
   "metadata": {},
   "source": [
    "[1] https://www.educative.io/edpresso/how-to-take-the-square-root-of-a-number-in-python\n",
    "\n",
    "[2] https://www.codegrepper.com/code-examples/python/python+print+upto+two+decimal+places \n",
    "\n",
    "[3] https://kodify.net/python/math/square-root/\n",
    "\n",
    "[4] https://www.educba.com/square-root-in-python/ "
   ]
  }
 ],
 "metadata": {
  "kernelspec": {
   "display_name": "Python 3",
   "language": "python",
   "name": "python3"
  },
  "language_info": {
   "codemirror_mode": {
    "name": "ipython",
    "version": 3
   },
   "file_extension": ".py",
   "mimetype": "text/x-python",
   "name": "python",
   "nbconvert_exporter": "python",
   "pygments_lexer": "ipython3",
   "version": "3.8.3"
  }
 },
 "nbformat": 4,
 "nbformat_minor": 4
}
