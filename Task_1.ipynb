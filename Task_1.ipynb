{
 "cells": [
  {
   "cell_type": "markdown",
   "metadata": {},
   "source": [
    "<p align=\"center\">\n",
    "    <h1 align=\"center\">Machine Learning and Statistics Tasks 2020</h1>\n",
    "    <h1 align=\"center\"> Task 1: Python function called sqrt2</h1>\n",
    "    <h2 align=\"center\"> Author: Ezekiel Onaloye</h2>\n",
    "    <h2 align=\"center\"> Created: November 2020 </h2> \n",
    "    <br><br>\n",
    "</p>"
   ]
  },
  {
   "cell_type": "markdown",
   "metadata": {},
   "source": [
    "### Research and a description of algorithm"
   ]
  },
  {
   "cell_type": "markdown",
   "metadata": {},
   "source": [
    "<h5 align=\"left\"> Research </h5> \n",
    "\n",
    "\n",
    "\n",
    "<h5 align=\"left\"> Algorithm to compute the squre root of number </h5> \n",
    "\n",
    "\n",
    "> Let n be the given number\n",
    "\n",
    "> create function sqrt2(takes a parameter)\n",
    "\n",
    "> given number stored as variable x\n",
    "\n",
    "> y equate given number + 1 divided by 2\n",
    "\n",
    "> while y is less than x\n",
    "\n",
    "> then x = y\n",
    "\n",
    "> y store the value of x+n divided by itself and overall by 2\n",
    "\n",
    "> return y as the square root"
   ]
  },
  {
   "cell_type": "markdown",
   "metadata": {},
   "source": [
    "### Python function called sqrt2 \n",
    "Funcution takes input,calculates and prints to the screen the square root of 2 to 100 decimal places."
   ]
  },
  {
   "cell_type": "code",
   "execution_count": 4,
   "metadata": {},
   "outputs": [
    {
     "name": "stdout",
     "output_type": "stream",
     "text": [
      "Please enter any number to find square root: 2\n",
      "Square root of 2 the given number is 1.4142135623730949234300169337075203657150268554687500000000000000000000000000000000000000000000000000\n"
     ]
    }
   ],
   "source": [
    "# user asked to enter a number \n",
    "n = int(input(\"Please enter any number to find square root: \"))\n",
    "\n",
    "# function declared\n",
    "def sqrt2(n):\n",
    "    # number entered stored as x, x is a variable carrying entered number\n",
    "    x = n\n",
    "    # y store x + 1 divided by 2 based on \n",
    "    y = (x + 1) / 2\n",
    "    while y < x:\n",
    "        x = y\n",
    "        y = (x + n / x) / 2\n",
    "    return y;\n",
    "print(\"Square root of\", n, \"the given number is %.100f\" % sqrt2(n))"
   ]
  },
  {
   "cell_type": "markdown",
   "metadata": {},
   "source": [
    "### References"
   ]
  },
  {
   "cell_type": "markdown",
   "metadata": {},
   "source": [
    "[1] https://www.xspdf.com/resolution/56022200.html\n",
    "\n",
    "[2] https://www.semicolonworld.com/python/tutorial/python-find-square-root\n",
    "\n",
    "[3] https://www.codegrepper.com/code-examples/python/python+print+upto+two+decimal+places "
   ]
  },
  {
   "cell_type": "code",
   "execution_count": null,
   "metadata": {},
   "outputs": [],
   "source": []
  }
 ],
 "metadata": {
  "kernelspec": {
   "display_name": "Python 3",
   "language": "python",
   "name": "python3"
  },
  "language_info": {
   "codemirror_mode": {
    "name": "ipython",
    "version": 3
   },
   "file_extension": ".py",
   "mimetype": "text/x-python",
   "name": "python",
   "nbconvert_exporter": "python",
   "pygments_lexer": "ipython3",
   "version": "3.8.3"
  }
 },
 "nbformat": 4,
 "nbformat_minor": 4
}
